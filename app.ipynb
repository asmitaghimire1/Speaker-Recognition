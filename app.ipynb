{
 "cells": [
  {
   "cell_type": "code",
   "execution_count": 9,
   "id": "2e955e11-b03e-45f3-81ea-66e11aea74df",
   "metadata": {},
   "outputs": [
    {
     "name": "stdout",
     "output_type": "stream",
     "text": [
      " * Serving Flask app '__main__'\n",
      " * Debug mode: on\n"
     ]
    },
    {
     "name": "stderr",
     "output_type": "stream",
     "text": [
      "WARNING: This is a development server. Do not use it in a production deployment. Use a production WSGI server instead.\n",
      " * Running on http://127.0.0.1:5000\n",
      "Press CTRL+C to quit\n",
      " * Restarting with stat\n"
     ]
    },
    {
     "ename": "SystemExit",
     "evalue": "1",
     "output_type": "error",
     "traceback": [
      "An exception has occurred, use %tb to see the full traceback.\n",
      "\u001b[1;31mSystemExit\u001b[0m\u001b[1;31m:\u001b[0m 1\n"
     ]
    }
   ],
   "source": [
    "from flask import Flask, render_template, request, jsonify\n",
    "import numpy as np\n",
    "import librosa\n",
    "import os\n",
    "from tensorflow.keras.models import load_model\n",
    "\n",
    "app = Flask(__name__)\n",
    "\n",
    "# Load the trained model\n",
    "model = load_model(\"cnn_model.keras\")\n",
    "\n",
    "# Load label encoder\n",
    "with open(\"label_encoder_classes.npy\", \"rb\") as f:\n",
    "    label_classes = np.load(f, allow_pickle=True)\n",
    "\n",
    "# Function to extract MFCC features\n",
    "def extract_mfcc(file_path):\n",
    "    y, sr = librosa.load(file_path, sr=16000)\n",
    "    mfcc = librosa.feature.mfcc(y=y, sr=sr, n_mfcc=40)\n",
    "    mfcc = np.mean(mfcc, axis=1)\n",
    "    return np.expand_dims(mfcc, axis=0)  # Add batch dimension\n",
    "\n",
    "@app.route('/')\n",
    "def index():\n",
    "    return render_template('index.html')\n",
    "\n",
    "@app.route('/predict', methods=['POST'])\n",
    "def predict():\n",
    "    if 'file' not in request.files:\n",
    "        return jsonify({'error': 'No file uploaded'}), 400\n",
    "\n",
    "    file = request.files['file']\n",
    "    \n",
    "    if file.filename == '':\n",
    "        return jsonify({'error': 'No selected file'}), 400\n",
    "\n",
    "    # Save the uploaded file temporarily\n",
    "    file_path = os.path.join(\"temp.wav\")\n",
    "    file.save(file_path)\n",
    "\n",
    "    # Extract MFCC features from the file\n",
    "    mfcc_features = extract_mfcc(file_path)\n",
    "\n",
    "    # Predict the speaker using the model\n",
    "    prediction = model.predict(mfcc_features)\n",
    "    predicted_label = np.argmax(prediction, axis=1)[0]\n",
    "\n",
    "    # Convert predicted label to speaker name\n",
    "    speaker_name = label_classes[predicted_label]\n",
    "\n",
    "    # Return the result to the frontend\n",
    "    return jsonify({'speaker': speaker_name})\n",
    "\n",
    "if __name__ == '__main__':\n",
    "    app.run(debug=True)\n"
   ]
  }
 ],
 "metadata": {
  "kernelspec": {
   "display_name": "Python 3 (ipykernel)",
   "language": "python",
   "name": "python3"
  },
  "language_info": {
   "codemirror_mode": {
    "name": "ipython",
    "version": 3
   },
   "file_extension": ".py",
   "mimetype": "text/x-python",
   "name": "python",
   "nbconvert_exporter": "python",
   "pygments_lexer": "ipython3",
   "version": "3.12.8"
  }
 },
 "nbformat": 4,
 "nbformat_minor": 5
}
