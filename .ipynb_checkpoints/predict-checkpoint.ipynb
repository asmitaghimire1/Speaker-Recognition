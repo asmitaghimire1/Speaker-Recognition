{
 "cells": [
  {
   "cell_type": "code",
   "execution_count": 7,
   "id": "ebc516ec-3cd4-4c51-a36c-e0117c9519df",
   "metadata": {},
   "outputs": [
    {
     "name": "stdout",
     "output_type": "stream",
     "text": [
      "Evaluating the model on the test dataset...\n",
      "\u001b[1m47/47\u001b[0m \u001b[32m━━━━━━━━━━━━━━━━━━━━\u001b[0m\u001b[37m\u001b[0m \u001b[1m0s\u001b[0m 3ms/step \n",
      "Test Accuracy: 0.9913\n",
      "\n",
      "Classification Report:\n",
      "                   precision    recall  f1-score   support\n",
      "\n",
      "Benjamin_Netanyau       0.97      1.00      0.99       310\n",
      " Jens_Stoltenberg       1.00      0.97      0.98       310\n",
      "    Julia_Gillard       1.00      0.99      0.99       286\n",
      "  Magaret_Tarcher       0.99      1.00      0.99       289\n",
      "   Nelson_Mandela       1.00      1.00      1.00       306\n",
      "\n",
      "         accuracy                           0.99      1501\n",
      "        macro avg       0.99      0.99      0.99      1501\n",
      "     weighted avg       0.99      0.99      0.99      1501\n",
      "\n",
      "An error occurred: name 'cm' is not defined\n"
     ]
    },
    {
     "data": {
      "text/plain": [
       "<Figure size 800x600 with 0 Axes>"
      ]
     },
     "metadata": {},
     "output_type": "display_data"
    }
   ],
   "source": [
    "import numpy as np\n",
    "from tensorflow.keras.models import load_model\n",
    "import os\n",
    "from sklearn.preprocessing import LabelEncoder\n",
    "from sklearn.metrics import accuracy_score, classification_report, confusion_matrix\n",
    "import seaborn as sns\n",
    "import matplotlib.pyplot as plt\n",
    "\n",
    "# Disable TensorFlow optimizations for reproducibility\n",
    "os.environ['TF_ENABLE_ONEDNN_OPTS'] = '0'\n",
    "\n",
    "# Function to load pre-saved test data and labels\n",
    "def load_test_data():\n",
    "    if not (os.path.exists(\"X_test_cnn.npy\") and os.path.exists(\"y_test.npy\") and os.path.exists(\"label_encoder_classes.npy\")):\n",
    "        raise FileNotFoundError(\"Required files 'X_test_cnn.npy', 'y_test.npy', or 'label_encoder_classes.npy' not found.\")\n",
    "    \n",
    "    X_test_cnn = np.load(\"X_test_cnn.npy\")\n",
    "    y_test = np.load(\"y_test.npy\")\n",
    "    label_classes = np.load('label_encoder_classes.npy', allow_pickle=True)\n",
    "    \n",
    "    label_encoder = LabelEncoder()\n",
    "    label_encoder.classes_ = label_classes\n",
    "    return X_test_cnn, y_test, label_encoder\n",
    "\n",
    "# Load the trained CNN model\n",
    "def load_cnn_model():\n",
    "    model = load_model(\"cnn_model.keras\")\n",
    "    model.compile(optimizer='adam', loss='categorical_crossentropy', metrics=['accuracy'])  # Compile for evaluation\n",
    "    return model\n",
    "\n",
    "# Evaluate the model on the test dataset\n",
    "def evaluate_model(model, X_test, y_test, label_encoder):\n",
    "    predictions = model.predict(X_test)\n",
    "    predicted_labels = np.argmax(predictions, axis=1)\n",
    "    y_test_labels = label_encoder.inverse_transform(y_test)\n",
    "    predicted_speakers = label_encoder.inverse_transform(predicted_labels)\n",
    "    \n",
    "    accuracy = accuracy_score(y_test_labels, predicted_speakers)\n",
    "    print(f\"Test Accuracy: {accuracy:.4f}\")\n",
    "    \n",
    "    print(\"\\nClassification Report:\")\n",
    "    print(classification_report(y_test_labels, predicted_speakers))\n",
    "    \n",
    "    # Confusion Matrix\n",
    "    cm = confusion_matrix(y_test_labels, predicted_speakers)\n",
    "\n",
    "    \n",
    "    # Plot Confusion Matrix\n",
    "    plt.figure(figsize=(8, 6))\n",
    "    sns.heatmap(cm, annot=True, fmt=\"d\", cmap=\"Blues\", xticklabels=label_encoder.classes_, yticklabels=label_encoder.classes_)\n",
    "    plt.title('Confusion Matrix')\n",
    "    plt.xlabel('Predicted')\n",
    "    plt.ylabel('True')\n",
    "    plt.show()\n",
    "    \n",
    "    return predicted_speakers\n",
    "\n",
    "# Main function\n",
    "def main():\n",
    "    try:\n",
    "        X_test_cnn, y_test, label_encoder = load_test_data()\n",
    "        model = load_cnn_model()\n",
    "        \n",
    "        print(\"Evaluating the model on the test dataset...\")\n",
    "        evaluate_model(model, X_test_cnn, y_test, label_encoder)\n",
    "    \n",
    "    except Exception as e:\n",
    "        print(f\"An error occurred: {e}\")\n",
    "\n",
    "# Run the main function\n",
    "if __name__ == \"__main__\":\n",
    "    main()\n"
   ]
  },
  {
   "cell_type": "code",
   "execution_count": null,
   "id": "80021d35-fbfe-49a3-a56b-a6b59a8ac256",
   "metadata": {},
   "outputs": [],
   "source": []
  }
 ],
 "metadata": {
  "kernelspec": {
   "display_name": "Python 3 (ipykernel)",
   "language": "python",
   "name": "python3"
  },
  "language_info": {
   "codemirror_mode": {
    "name": "ipython",
    "version": 3
   },
   "file_extension": ".py",
   "mimetype": "text/x-python",
   "name": "python",
   "nbconvert_exporter": "python",
   "pygments_lexer": "ipython3",
   "version": "3.12.8"
  }
 },
 "nbformat": 4,
 "nbformat_minor": 5
}
