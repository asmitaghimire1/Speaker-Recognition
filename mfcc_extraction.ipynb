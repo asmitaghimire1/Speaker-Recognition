{
 "cells": [
  {
   "cell_type": "code",
   "execution_count": 3,
   "id": "52bc2651-c460-487b-8017-57c3cdb64ab1",
   "metadata": {},
   "outputs": [
    {
     "name": "stdout",
     "output_type": "stream",
     "text": [
      "Training data shape: (6002, 13, 1)\n",
      "Test data shape: (1501, 13, 1)\n"
     ]
    }
   ],
   "source": [
    "import os\n",
    "import librosa\n",
    "import numpy as np\n",
    "import pandas as pd\n",
    "from sklearn.model_selection import train_test_split\n",
    "\n",
    "# Extracting MFCC features from an audio file\n",
    "def extract_mfcc(file_path, n_mfcc=13):\n",
    "    # Loading audio file\n",
    "    audio, sample_rate = librosa.load(file_path, sr=None)\n",
    "    \n",
    "    # MFCC features extraction\n",
    "    mfccs = librosa.feature.mfcc(y=audio, sr=sample_rate, n_mfcc=n_mfcc)\n",
    "    \n",
    "    # Mean of MFCC coefficients over time\n",
    "    mfccs_mean = np.mean(mfccs.T, axis=0)\n",
    "    \n",
    "    return mfccs_mean\n",
    "\n",
    "# Function to process the dataset and extract MFCC features for all audio files\n",
    "def process_dataset(directory_path):\n",
    "    mfcc_features = []\n",
    "    labels = []\n",
    "    \n",
    "    # Loop through each speaker directory\n",
    "    for speaker in os.listdir(directory_path):\n",
    "        speaker_path = os.path.join(directory_path, speaker)\n",
    "        \n",
    "        # Ignore directories like '_background_noise_' and any other irrelevant folders\n",
    "        if not os.path.isdir(speaker_path) or speaker.startswith('_'):\n",
    "            continue\n",
    "        \n",
    "        # Loop through each audio file in the speaker's folder\n",
    "        for file_name in os.listdir(speaker_path):\n",
    "            if file_name.endswith('.wav'):  # Ensure it's a .wav file\n",
    "                file_path = os.path.join(speaker_path, file_name)\n",
    "                \n",
    "                # Extract MFCC features and append to list\n",
    "                mfcc = extract_mfcc(file_path)\n",
    "                mfcc_features.append(mfcc)\n",
    "                \n",
    "                # Append corresponding label (speaker's name)\n",
    "                labels.append(speaker)\n",
    "    \n",
    "    # Convert lists to a DataFrame\n",
    "    df = pd.DataFrame(mfcc_features)\n",
    "    df['label'] = labels\n",
    "    \n",
    "    return df\n",
    "\n",
    "# Define the path to your dataset\n",
    "dataset_path = \"16000_pcm_speeches\"  # Change this to your actual dataset path\n",
    "\n",
    "# Process the dataset to extract MFCC features and labels\n",
    "df = process_dataset(dataset_path)\n",
    "\n",
    "# Split the data into train and test sets\n",
    "X = df.drop('label', axis=1)  # Features (MFCCs)\n",
    "y = df['label']              # Labels (Speakers)\n",
    "\n",
    "X_train, X_test, y_train, y_test = train_test_split(X, y, test_size=0.2, random_state=42)\n",
    "\n",
    "# Reshape the data for CNN input\n",
    "X_train_cnn = X_train.values.reshape(X_train.shape[0], 13, 1)  # 13 MFCC coefficients, 1 channel\n",
    "X_test_cnn = X_test.values.reshape(X_test.shape[0], 13, 1)\n",
    "\n",
    "# Print shapes to confirm\n",
    "print(\"Training data shape:\", X_train_cnn.shape)\n",
    "print(\"Test data shape:\", X_test_cnn.shape)\n",
    "\n",
    "# Function to return train and test data\n",
    "def get_train_test_data():\n",
    "    return X_train_cnn, X_test_cnn, y_train, y_test"
   ]
  },
  {
   "cell_type": "code",
   "execution_count": null,
   "id": "2802410c-1783-4d79-8e28-8b0bab5aff08",
   "metadata": {},
   "outputs": [],
   "source": []
  }
 ],
 "metadata": {
  "kernelspec": {
   "display_name": "Python 3 (ipykernel)",
   "language": "python",
   "name": "python3"
  },
  "language_info": {
   "codemirror_mode": {
    "name": "ipython",
    "version": 3
   },
   "file_extension": ".py",
   "mimetype": "text/x-python",
   "name": "python",
   "nbconvert_exporter": "python",
   "pygments_lexer": "ipython3",
   "version": "3.12.8"
  }
 },
 "nbformat": 4,
 "nbformat_minor": 5
}
