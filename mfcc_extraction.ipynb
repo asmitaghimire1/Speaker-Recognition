{
 "cells": [
  {
   "cell_type": "code",
   "execution_count": 1,
   "id": "52bc2651-c460-487b-8017-57c3cdb64ab1",
   "metadata": {},
   "outputs": [
    {
     "name": "stdout",
     "output_type": "stream",
     "text": [
      "Training data shape: (6001, 13, 1)\n",
      "Test data shape: (1500, 13, 1)\n"
     ]
    }
   ],
   "source": [
    "import os\n",
    "import librosa\n",
    "import numpy as np\n",
    "import pandas as pd\n",
    "from sklearn.model_selection import train_test_split\n",
    "\n",
    "# Extracting MFCC features from an audio file\n",
    "def extract_mfcc(file_path, n_mfcc=13):\n",
    "    audio, sample_rate = librosa.load(file_path, sr=None)\n",
    "    mfccs = librosa.feature.mfcc(y=audio, sr=sample_rate, n_mfcc=n_mfcc)\n",
    "    return np.mean(mfccs.T, axis=0)\n",
    "\n",
    "# Function to process the dataset and extract MFCC features for all audio files\n",
    "def process_dataset(directory_path):\n",
    "    mfcc_features = []\n",
    "    labels = []\n",
    "    speakers = sorted(os.listdir(directory_path))  # Sort to ensure consistency\n",
    "    \n",
    "    for speaker in speakers:\n",
    "        speaker_path = os.path.join(directory_path, speaker)\n",
    "        if not os.path.isdir(speaker_path) or speaker.startswith('_'):\n",
    "            continue\n",
    "        \n",
    "        for file_name in os.listdir(speaker_path):\n",
    "            if file_name.endswith('.wav'):\n",
    "                file_path = os.path.join(speaker_path, file_name)\n",
    "                mfcc = extract_mfcc(file_path)\n",
    "                mfcc_features.append(mfcc)\n",
    "                labels.append(speaker)\n",
    "    \n",
    "    df = pd.DataFrame(mfcc_features)\n",
    "    df['label'] = labels\n",
    "    return df\n",
    "\n",
    "# Define dataset path\n",
    "dataset_path = \"16000_pcm_speeches\"  # Change to actual dataset path\n",
    "\n",
    "df = process_dataset(dataset_path)\n",
    "\n",
    "# Get unique speakers\n",
    "unique_speakers = df['label'].unique()\n",
    "np.random.seed(42)\n",
    "np.random.shuffle(unique_speakers)  # Shuffle speakers randomly\n",
    "\n",
    "# Assign 4 speakers for training and 1 speaker for testing\n",
    "train_speakers = unique_speakers[:4]\n",
    "test_speaker = unique_speakers[4]\n",
    "\n",
    "# Split data\n",
    "train_df = df[df['label'].isin(train_speakers)]\n",
    "test_df = df[df['label'] == test_speaker]\n",
    "\n",
    "# Separate features and labels\n",
    "X_train = train_df.drop('label', axis=1).values\n",
    "y_train = train_df['label'].values\n",
    "X_test = test_df.drop('label', axis=1).values\n",
    "y_test = test_df['label'].values\n",
    "\n",
    "# Reshape for CNN input\n",
    "X_train_cnn = X_train.reshape(X_train.shape[0], 13, 1)\n",
    "X_test_cnn = X_test.reshape(X_test.shape[0], 13, 1)\n",
    "\n",
    "print(\"Training data shape:\", X_train_cnn.shape)\n",
    "print(\"Test data shape:\", X_test_cnn.shape)\n",
    "\n",
    "def get_train_test_data():\n",
    "    return X_train_cnn, X_test_cnn, y_train, y_test\n"
   ]
  },
  {
   "cell_type": "code",
   "execution_count": null,
   "id": "2802410c-1783-4d79-8e28-8b0bab5aff08",
   "metadata": {},
   "outputs": [],
   "source": []
  }
 ],
 "metadata": {
  "kernelspec": {
   "display_name": "Python 3 (ipykernel)",
   "language": "python",
   "name": "python3"
  },
  "language_info": {
   "codemirror_mode": {
    "name": "ipython",
    "version": 3
   },
   "file_extension": ".py",
   "mimetype": "text/x-python",
   "name": "python",
   "nbconvert_exporter": "python",
   "pygments_lexer": "ipython3",
   "version": "3.12.8"
  }
 },
 "nbformat": 4,
 "nbformat_minor": 5
}
